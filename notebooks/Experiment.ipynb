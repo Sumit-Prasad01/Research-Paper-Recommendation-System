{
 "cells": [
  {
   "cell_type": "markdown",
   "id": "283ce3b8",
   "metadata": {},
   "source": [
    "## Loading Tools and Dataset"
   ]
  },
  {
   "cell_type": "markdown",
   "id": "6b966b57",
   "metadata": {},
   "source": [
    "# Part 1"
   ]
  },
  {
   "cell_type": "code",
   "execution_count": 1,
   "id": "89fa4054",
   "metadata": {},
   "outputs": [],
   "source": [
    "from tensorflow.keras import layers\n",
    "from tensorflow import keras \n",
    "import tensorflow as tf\n",
    "from sklearn.model_selection import train_test_split\n",
    "from ast import literal_eval\n",
    "import pandas as pd\n",
    "import numpy as np"
   ]
  },
  {
   "cell_type": "code",
   "execution_count": 2,
   "id": "130c85f7",
   "metadata": {},
   "outputs": [],
   "source": [
    "df = pd.read_csv(\"../artifacts/raw/arxiv_data.csv\")"
   ]
  },
  {
   "cell_type": "code",
   "execution_count": 3,
   "id": "d76298f5",
   "metadata": {},
   "outputs": [],
   "source": [
    "new_df = pd.read_csv(\"../artifacts/raw/arxiv_data.csv\")"
   ]
  },
  {
   "cell_type": "code",
   "execution_count": 4,
   "id": "c94c3d8d",
   "metadata": {},
   "outputs": [
    {
     "data": {
      "text/html": [
       "<div>\n",
       "<style scoped>\n",
       "    .dataframe tbody tr th:only-of-type {\n",
       "        vertical-align: middle;\n",
       "    }\n",
       "\n",
       "    .dataframe tbody tr th {\n",
       "        vertical-align: top;\n",
       "    }\n",
       "\n",
       "    .dataframe thead th {\n",
       "        text-align: right;\n",
       "    }\n",
       "</style>\n",
       "<table border=\"1\" class=\"dataframe\">\n",
       "  <thead>\n",
       "    <tr style=\"text-align: right;\">\n",
       "      <th></th>\n",
       "      <th>titles</th>\n",
       "      <th>summaries</th>\n",
       "      <th>terms</th>\n",
       "    </tr>\n",
       "  </thead>\n",
       "  <tbody>\n",
       "    <tr>\n",
       "      <th>0</th>\n",
       "      <td>Survey on Semantic Stereo Matching / Semantic ...</td>\n",
       "      <td>Stereo matching is one of the widely used tech...</td>\n",
       "      <td>['cs.CV', 'cs.LG']</td>\n",
       "    </tr>\n",
       "    <tr>\n",
       "      <th>1</th>\n",
       "      <td>FUTURE-AI: Guiding Principles and Consensus Re...</td>\n",
       "      <td>The recent advancements in artificial intellig...</td>\n",
       "      <td>['cs.CV', 'cs.AI', 'cs.LG']</td>\n",
       "    </tr>\n",
       "    <tr>\n",
       "      <th>2</th>\n",
       "      <td>Enforcing Mutual Consistency of Hard Regions f...</td>\n",
       "      <td>In this paper, we proposed a novel mutual cons...</td>\n",
       "      <td>['cs.CV', 'cs.AI']</td>\n",
       "    </tr>\n",
       "    <tr>\n",
       "      <th>3</th>\n",
       "      <td>Parameter Decoupling Strategy for Semi-supervi...</td>\n",
       "      <td>Consistency training has proven to be an advan...</td>\n",
       "      <td>['cs.CV']</td>\n",
       "    </tr>\n",
       "    <tr>\n",
       "      <th>4</th>\n",
       "      <td>Background-Foreground Segmentation for Interio...</td>\n",
       "      <td>To ensure safety in automated driving, the cor...</td>\n",
       "      <td>['cs.CV', 'cs.LG']</td>\n",
       "    </tr>\n",
       "  </tbody>\n",
       "</table>\n",
       "</div>"
      ],
      "text/plain": [
       "                                              titles  \\\n",
       "0  Survey on Semantic Stereo Matching / Semantic ...   \n",
       "1  FUTURE-AI: Guiding Principles and Consensus Re...   \n",
       "2  Enforcing Mutual Consistency of Hard Regions f...   \n",
       "3  Parameter Decoupling Strategy for Semi-supervi...   \n",
       "4  Background-Foreground Segmentation for Interio...   \n",
       "\n",
       "                                           summaries  \\\n",
       "0  Stereo matching is one of the widely used tech...   \n",
       "1  The recent advancements in artificial intellig...   \n",
       "2  In this paper, we proposed a novel mutual cons...   \n",
       "3  Consistency training has proven to be an advan...   \n",
       "4  To ensure safety in automated driving, the cor...   \n",
       "\n",
       "                         terms  \n",
       "0           ['cs.CV', 'cs.LG']  \n",
       "1  ['cs.CV', 'cs.AI', 'cs.LG']  \n",
       "2           ['cs.CV', 'cs.AI']  \n",
       "3                    ['cs.CV']  \n",
       "4           ['cs.CV', 'cs.LG']  "
      ]
     },
     "execution_count": 4,
     "metadata": {},
     "output_type": "execute_result"
    }
   ],
   "source": [
    "df.head()"
   ]
  },
  {
   "cell_type": "markdown",
   "id": "7abc015f",
   "metadata": {},
   "source": [
    "# Part 2 (Recommendation System)"
   ]
  },
  {
   "cell_type": "code",
   "execution_count": 5,
   "id": "e151e487",
   "metadata": {},
   "outputs": [],
   "source": [
    "df.drop(columns = ['terms', 'summaries'], inplace = True)"
   ]
  },
  {
   "cell_type": "code",
   "execution_count": 6,
   "id": "64d54b5b",
   "metadata": {},
   "outputs": [
    {
     "data": {
      "text/html": [
       "<div>\n",
       "<style scoped>\n",
       "    .dataframe tbody tr th:only-of-type {\n",
       "        vertical-align: middle;\n",
       "    }\n",
       "\n",
       "    .dataframe tbody tr th {\n",
       "        vertical-align: top;\n",
       "    }\n",
       "\n",
       "    .dataframe thead th {\n",
       "        text-align: right;\n",
       "    }\n",
       "</style>\n",
       "<table border=\"1\" class=\"dataframe\">\n",
       "  <thead>\n",
       "    <tr style=\"text-align: right;\">\n",
       "      <th></th>\n",
       "      <th>titles</th>\n",
       "    </tr>\n",
       "  </thead>\n",
       "  <tbody>\n",
       "    <tr>\n",
       "      <th>0</th>\n",
       "      <td>Survey on Semantic Stereo Matching / Semantic ...</td>\n",
       "    </tr>\n",
       "    <tr>\n",
       "      <th>1</th>\n",
       "      <td>FUTURE-AI: Guiding Principles and Consensus Re...</td>\n",
       "    </tr>\n",
       "    <tr>\n",
       "      <th>2</th>\n",
       "      <td>Enforcing Mutual Consistency of Hard Regions f...</td>\n",
       "    </tr>\n",
       "    <tr>\n",
       "      <th>3</th>\n",
       "      <td>Parameter Decoupling Strategy for Semi-supervi...</td>\n",
       "    </tr>\n",
       "    <tr>\n",
       "      <th>4</th>\n",
       "      <td>Background-Foreground Segmentation for Interio...</td>\n",
       "    </tr>\n",
       "    <tr>\n",
       "      <th>...</th>\n",
       "      <td>...</td>\n",
       "    </tr>\n",
       "    <tr>\n",
       "      <th>51769</th>\n",
       "      <td>Hierarchically-coupled hidden Markov models fo...</td>\n",
       "    </tr>\n",
       "    <tr>\n",
       "      <th>51770</th>\n",
       "      <td>Blinking Molecule Tracking</td>\n",
       "    </tr>\n",
       "    <tr>\n",
       "      <th>51771</th>\n",
       "      <td>Towards a Mathematical Foundation of Immunolog...</td>\n",
       "    </tr>\n",
       "    <tr>\n",
       "      <th>51772</th>\n",
       "      <td>A Semi-Automatic Graph-Based Approach for Dete...</td>\n",
       "    </tr>\n",
       "    <tr>\n",
       "      <th>51773</th>\n",
       "      <td>SparseCodePicking: feature extraction in mass ...</td>\n",
       "    </tr>\n",
       "  </tbody>\n",
       "</table>\n",
       "<p>51774 rows × 1 columns</p>\n",
       "</div>"
      ],
      "text/plain": [
       "                                                  titles\n",
       "0      Survey on Semantic Stereo Matching / Semantic ...\n",
       "1      FUTURE-AI: Guiding Principles and Consensus Re...\n",
       "2      Enforcing Mutual Consistency of Hard Regions f...\n",
       "3      Parameter Decoupling Strategy for Semi-supervi...\n",
       "4      Background-Foreground Segmentation for Interio...\n",
       "...                                                  ...\n",
       "51769  Hierarchically-coupled hidden Markov models fo...\n",
       "51770                         Blinking Molecule Tracking\n",
       "51771  Towards a Mathematical Foundation of Immunolog...\n",
       "51772  A Semi-Automatic Graph-Based Approach for Dete...\n",
       "51773  SparseCodePicking: feature extraction in mass ...\n",
       "\n",
       "[51774 rows x 1 columns]"
      ]
     },
     "execution_count": 6,
     "metadata": {},
     "output_type": "execute_result"
    }
   ],
   "source": [
    "df"
   ]
  },
  {
   "cell_type": "markdown",
   "id": "732ea305",
   "metadata": {},
   "source": [
    "### Provides pre trained models"
   ]
  },
  {
   "cell_type": "code",
   "execution_count": 7,
   "id": "296330d5",
   "metadata": {},
   "outputs": [
    {
     "name": "stderr",
     "output_type": "stream",
     "text": [
      "c:\\Users\\sumit\\OneDrive\\Desktop\\Research Paper Recommendation System\\.venv\\Lib\\site-packages\\tqdm\\auto.py:21: TqdmWarning: IProgress not found. Please update jupyter and ipywidgets. See https://ipywidgets.readthedocs.io/en/stable/user_install.html\n",
      "  from .autonotebook import tqdm as notebook_tqdm\n"
     ]
    },
    {
     "name": "stdout",
     "output_type": "stream",
     "text": [
      "WARNING:tensorflow:From c:\\Users\\sumit\\OneDrive\\Desktop\\Research Paper Recommendation System\\.venv\\Lib\\site-packages\\tf_keras\\src\\losses.py:2976: The name tf.losses.sparse_softmax_cross_entropy is deprecated. Please use tf.compat.v1.losses.sparse_softmax_cross_entropy instead.\n",
      "\n"
     ]
    }
   ],
   "source": [
    "from sentence_transformers import SentenceTransformer, util"
   ]
  },
  {
   "cell_type": "code",
   "execution_count": 8,
   "id": "9e6b4dbc",
   "metadata": {},
   "outputs": [],
   "source": [
    "model =  SentenceTransformer('all-MiniLM-L6-v2')"
   ]
  },
  {
   "cell_type": "code",
   "execution_count": 9,
   "id": "942d3423",
   "metadata": {},
   "outputs": [],
   "source": [
    "sentences = df['titles']"
   ]
  },
  {
   "cell_type": "code",
   "execution_count": 10,
   "id": "fe18feb0",
   "metadata": {},
   "outputs": [],
   "source": [
    "# embeddings = model.encode(sentences)"
   ]
  },
  {
   "cell_type": "code",
   "execution_count": 11,
   "id": "b6fdc5cf",
   "metadata": {},
   "outputs": [],
   "source": [
    "# embeddings"
   ]
  },
  {
   "cell_type": "code",
   "execution_count": 12,
   "id": "33cefd77",
   "metadata": {},
   "outputs": [],
   "source": [
    "# c = 0\n",
    "# for sentence, embedding in zip(sentences, embeddings):\n",
    "#     print(f\"Sentence : {sentence}\\n\")\n",
    "#     print(f\"Embedding : {len(embedding)}\")\n",
    "#     if c > 5:\n",
    "#         break\n",
    "#     c += 1"
   ]
  },
  {
   "cell_type": "code",
   "execution_count": 13,
   "id": "e89d4ccc",
   "metadata": {},
   "outputs": [],
   "source": [
    "# import pickle\n",
    "\n",
    "# with open(\"../artifacts/models/embeddings.pkl\", 'wb') as f:\n",
    "#     pickle.dump(embeddings,f)\n",
    "\n",
    "# with open(\"../artifacts/models/sentences.pkl\", 'wb') as f:\n",
    "#     pickle.dump(sentences,f)\n",
    "\n",
    "# with open(\"../artifacts/models/rec_model.pkl\", 'wb') as f:\n",
    "#     pickle.dump(model,f)"
   ]
  },
  {
   "cell_type": "code",
   "execution_count": 14,
   "id": "e32f9387",
   "metadata": {},
   "outputs": [],
   "source": [
    "# embeddings = pickle.load(open(\"../artifacts/models/embeddings.pkl\", 'rb'))\n",
    "# sentences = pickle.load(open(\"../artifacts/models/sentences.pkl\", 'rb'))\n",
    "# rec_model = pickle.load(open(\"../artifacts/models/rec_model.pkl\", 'rb'))"
   ]
  },
  {
   "cell_type": "markdown",
   "id": "063a2705",
   "metadata": {},
   "source": [
    "# Top 5 recommendations"
   ]
  },
  {
   "cell_type": "code",
   "execution_count": 15,
   "id": "64e94c38",
   "metadata": {},
   "outputs": [],
   "source": [
    "# import torch\n",
    "\n",
    "# def recommendation(input_paper):\n",
    "#     # Encode input and compute cosine similarity\n",
    "#     input_embedding = rec_model.encode(input_paper)\n",
    "#     cosine_scores = util.cos_sim(embeddings, input_embedding).squeeze(1)\n",
    "    \n",
    "#     # Sort all papers by similarity (descending)\n",
    "#     sorted_indices = torch.argsort(cosine_scores, descending=True)\n",
    "    \n",
    "#     # Collect up to 5 unique papers\n",
    "#     papers_list = []\n",
    "#     seen = set()\n",
    "    \n",
    "#     for idx in sorted_indices:\n",
    "#         title = sentences[idx.item()]\n",
    "#         if title not in seen:\n",
    "#             papers_list.append(title)\n",
    "#             seen.add(title)\n",
    "#         if len(papers_list) == 5:\n",
    "#             break\n",
    "    \n",
    "#     return papers_list\n"
   ]
  },
  {
   "cell_type": "code",
   "execution_count": 16,
   "id": "f008f142",
   "metadata": {},
   "outputs": [],
   "source": [
    "# # exampel usage 2: (use this paper as input (BERT: Pre-training of Deep Bidirectional Transformers for Language Understanding))\n",
    "# input_paper = input(\"Enter the title of any paper you like\")\n",
    "# recommend_papers = recommendation(input_paper)\n",
    "\n",
    "\n",
    "# print(\"We recommend to read this paper............\")\n",
    "# print(\"=============================================\")\n",
    "# for paper in recommend_papers:\n",
    "#     print(paper)"
   ]
  },
  {
   "cell_type": "code",
   "execution_count": 17,
   "id": "8bbaf769",
   "metadata": {},
   "outputs": [
    {
     "data": {
      "text/plain": [
       "(51774, 3)"
      ]
     },
     "execution_count": 17,
     "metadata": {},
     "output_type": "execute_result"
    }
   ],
   "source": [
    "new_df.shape"
   ]
  },
  {
   "cell_type": "code",
   "execution_count": 18,
   "id": "b742f88f",
   "metadata": {},
   "outputs": [
    {
     "data": {
      "text/plain": [
       "titles       0\n",
       "summaries    0\n",
       "terms        0\n",
       "dtype: int64"
      ]
     },
     "execution_count": 18,
     "metadata": {},
     "output_type": "execute_result"
    }
   ],
   "source": [
    "new_df.isna().sum()"
   ]
  },
  {
   "cell_type": "code",
   "execution_count": 19,
   "id": "757219b8",
   "metadata": {},
   "outputs": [
    {
     "data": {
      "text/plain": [
       "np.int64(12783)"
      ]
     },
     "execution_count": 19,
     "metadata": {},
     "output_type": "execute_result"
    }
   ],
   "source": [
    "new_df.duplicated().sum()"
   ]
  },
  {
   "cell_type": "code",
   "execution_count": 20,
   "id": "9f613338",
   "metadata": {},
   "outputs": [],
   "source": [
    "labels_columns = new_df['terms'].apply(literal_eval)\n",
    "labels = labels_columns.explode().unique()"
   ]
  },
  {
   "cell_type": "code",
   "execution_count": 21,
   "id": "d60598f0",
   "metadata": {},
   "outputs": [
    {
     "data": {
      "text/plain": [
       "array(['cs.CV', 'cs.LG', 'cs.AI', ..., 'I.2.6; I.5.1; G.3',\n",
       "       '92E10, 46M20, 94A08, 68U10, 44A12, 55R35', '92E10'],\n",
       "      shape=(1099,), dtype=object)"
      ]
     },
     "execution_count": 21,
     "metadata": {},
     "output_type": "execute_result"
    }
   ],
   "source": [
    "labels"
   ]
  },
  {
   "cell_type": "code",
   "execution_count": 22,
   "id": "ea4c1d31",
   "metadata": {},
   "outputs": [],
   "source": [
    "new_df = new_df[~new_df['titles'].duplicated()]"
   ]
  },
  {
   "cell_type": "code",
   "execution_count": 23,
   "id": "474c7459",
   "metadata": {},
   "outputs": [
    {
     "data": {
      "text/plain": [
       "(38972, 3)"
      ]
     },
     "execution_count": 23,
     "metadata": {},
     "output_type": "execute_result"
    }
   ],
   "source": [
    "new_df.shape"
   ]
  },
  {
   "cell_type": "code",
   "execution_count": 24,
   "id": "8de5daf8",
   "metadata": {},
   "outputs": [
    {
     "name": "stdout",
     "output_type": "stream",
     "text": [
      "2321\n",
      "3157\n"
     ]
    }
   ],
   "source": [
    "print(sum(new_df['terms'].value_counts() == 1))\n",
    "print(new_df['terms'].nunique())"
   ]
  },
  {
   "cell_type": "code",
   "execution_count": 25,
   "id": "3dde4d91",
   "metadata": {},
   "outputs": [],
   "source": [
    "arxive_data_filtered = new_df.groupby ('terms').filter(lambda x : len(x) > 1)"
   ]
  },
  {
   "cell_type": "code",
   "execution_count": 26,
   "id": "e1f46613",
   "metadata": {},
   "outputs": [
    {
     "data": {
      "text/plain": [
       "(36651, 3)"
      ]
     },
     "execution_count": 26,
     "metadata": {},
     "output_type": "execute_result"
    }
   ],
   "source": [
    "arxive_data_filtered.shape"
   ]
  },
  {
   "cell_type": "code",
   "execution_count": 27,
   "id": "6fc06e65",
   "metadata": {},
   "outputs": [],
   "source": [
    "arxive_data = new_df"
   ]
  },
  {
   "cell_type": "code",
   "execution_count": 28,
   "id": "a397332d",
   "metadata": {},
   "outputs": [],
   "source": [
    "new_arxive_data_filtered = arxive_data_filtered "
   ]
  },
  {
   "cell_type": "code",
   "execution_count": 29,
   "id": "fabe11c1",
   "metadata": {},
   "outputs": [],
   "source": [
    "arxive_data['terms'] = arxive_data_filtered['terms'].apply(lambda x : literal_eval(x))"
   ]
  },
  {
   "cell_type": "code",
   "execution_count": 30,
   "id": "9c53190d",
   "metadata": {},
   "outputs": [
    {
     "data": {
      "text/plain": [
       "array([\"['cs.CV', 'cs.LG']\", \"['cs.CV', 'cs.AI', 'cs.LG']\",\n",
       "       \"['cs.CV', 'cs.AI']\"], dtype=object)"
      ]
     },
     "execution_count": 30,
     "metadata": {},
     "output_type": "execute_result"
    }
   ],
   "source": [
    "arxive_data_filtered['terms'].values[:3]"
   ]
  },
  {
   "cell_type": "markdown",
   "id": "024f1dab",
   "metadata": {},
   "source": [
    "# Train Test Split"
   ]
  },
  {
   "cell_type": "code",
   "execution_count": 31,
   "id": "6651923c",
   "metadata": {},
   "outputs": [],
   "source": [
    "train_df, test_df = train_test_split(arxive_data_filtered, test_size = 0.1, stratify = arxive_data_filtered['terms'].values, )"
   ]
  },
  {
   "cell_type": "code",
   "execution_count": 32,
   "id": "3befe9de",
   "metadata": {},
   "outputs": [
    {
     "data": {
      "text/plain": [
       "(32985, 3)"
      ]
     },
     "execution_count": 32,
     "metadata": {},
     "output_type": "execute_result"
    }
   ],
   "source": [
    "train_df.shape"
   ]
  },
  {
   "cell_type": "code",
   "execution_count": 33,
   "id": "d096a37b",
   "metadata": {},
   "outputs": [
    {
     "data": {
      "text/plain": [
       "(3666, 3)"
      ]
     },
     "execution_count": 33,
     "metadata": {},
     "output_type": "execute_result"
    }
   ],
   "source": [
    "test_df.shape"
   ]
  },
  {
   "cell_type": "code",
   "execution_count": 38,
   "id": "b9bdaeee",
   "metadata": {},
   "outputs": [],
   "source": [
    "val_df = test_df.sample(frac = 0.5)\n",
    "test_df.drop(val_df.index, inplace = True)"
   ]
  },
  {
   "cell_type": "code",
   "execution_count": 39,
   "id": "906e77c5",
   "metadata": {},
   "outputs": [
    {
     "data": {
      "text/plain": [
       "(1833, 3)"
      ]
     },
     "execution_count": 39,
     "metadata": {},
     "output_type": "execute_result"
    }
   ],
   "source": [
    "val_df.shape"
   ]
  },
  {
   "cell_type": "code",
   "execution_count": 40,
   "id": "e84b6690",
   "metadata": {},
   "outputs": [
    {
     "data": {
      "text/plain": [
       "(1833, 3)"
      ]
     },
     "execution_count": 40,
     "metadata": {},
     "output_type": "execute_result"
    }
   ],
   "source": [
    "test_df.shape"
   ]
  },
  {
   "cell_type": "code",
   "execution_count": 41,
   "id": "d45c2ec5",
   "metadata": {},
   "outputs": [
    {
     "data": {
      "text/plain": [
       "(32985, 3)"
      ]
     },
     "execution_count": 41,
     "metadata": {},
     "output_type": "execute_result"
    }
   ],
   "source": [
    "train_df.shape"
   ]
  },
  {
   "cell_type": "code",
   "execution_count": 42,
   "id": "e1f0f68b",
   "metadata": {},
   "outputs": [],
   "source": [
    "terms = tf.ragged.constant(train_df['terms'])"
   ]
  },
  {
   "cell_type": "code",
   "execution_count": 44,
   "id": "d06d0fef",
   "metadata": {},
   "outputs": [],
   "source": [
    "lookup = tf.keras.layers.StringLookup(output_mode = 'multi_hot')"
   ]
  },
  {
   "cell_type": "code",
   "execution_count": 46,
   "id": "4d2c4c19",
   "metadata": {},
   "outputs": [],
   "source": [
    "lookup.adapt(terms)\n",
    "vocab = lookup.get_vocabulary()"
   ]
  },
  {
   "cell_type": "code",
   "execution_count": 43,
   "id": "4a54e6e6",
   "metadata": {},
   "outputs": [
    {
     "data": {
      "text/plain": [
       "<tf.Tensor: shape=(32985,), dtype=string, numpy=\n",
       "array([b\"['stat.ML', 'cs.CV', 'cs.LG']\", b\"['cs.CV']\",\n",
       "       b\"['cs.LG', 'stat.ML']\", ..., b\"['cs.LG', 'stat.ML']\",\n",
       "       b\"['cs.CV']\", b\"['cs.CV']\"], shape=(32985,), dtype=object)>"
      ]
     },
     "execution_count": 43,
     "metadata": {},
     "output_type": "execute_result"
    }
   ],
   "source": [
    "terms"
   ]
  },
  {
   "cell_type": "code",
   "execution_count": 48,
   "id": "529a1a30",
   "metadata": {},
   "outputs": [
    {
     "name": "stdout",
     "output_type": "stream",
     "text": [
      "['cs.CV']\n"
     ]
    },
    {
     "data": {
      "text/plain": [
       "<tf.Tensor: shape=(837,), dtype=int64, numpy=\n",
       "array([0, 1, 0, 0, 0, 0, 0, 0, 0, 0, 0, 0, 0, 0, 0, 0, 0, 0, 0, 0, 0, 0,\n",
       "       0, 0, 0, 0, 0, 0, 0, 0, 0, 0, 0, 0, 0, 0, 0, 0, 0, 0, 0, 0, 0, 0,\n",
       "       0, 0, 0, 0, 0, 0, 0, 0, 0, 0, 0, 0, 0, 0, 0, 0, 0, 0, 0, 0, 0, 0,\n",
       "       0, 0, 0, 0, 0, 0, 0, 0, 0, 0, 0, 0, 0, 0, 0, 0, 0, 0, 0, 0, 0, 0,\n",
       "       0, 0, 0, 0, 0, 0, 0, 0, 0, 0, 0, 0, 0, 0, 0, 0, 0, 0, 0, 0, 0, 0,\n",
       "       0, 0, 0, 0, 0, 0, 0, 0, 0, 0, 0, 0, 0, 0, 0, 0, 0, 0, 0, 0, 0, 0,\n",
       "       0, 0, 0, 0, 0, 0, 0, 0, 0, 0, 0, 0, 0, 0, 0, 0, 0, 0, 0, 0, 0, 0,\n",
       "       0, 0, 0, 0, 0, 0, 0, 0, 0, 0, 0, 0, 0, 0, 0, 0, 0, 0, 0, 0, 0, 0,\n",
       "       0, 0, 0, 0, 0, 0, 0, 0, 0, 0, 0, 0, 0, 0, 0, 0, 0, 0, 0, 0, 0, 0,\n",
       "       0, 0, 0, 0, 0, 0, 0, 0, 0, 0, 0, 0, 0, 0, 0, 0, 0, 0, 0, 0, 0, 0,\n",
       "       0, 0, 0, 0, 0, 0, 0, 0, 0, 0, 0, 0, 0, 0, 0, 0, 0, 0, 0, 0, 0, 0,\n",
       "       0, 0, 0, 0, 0, 0, 0, 0, 0, 0, 0, 0, 0, 0, 0, 0, 0, 0, 0, 0, 0, 0,\n",
       "       0, 0, 0, 0, 0, 0, 0, 0, 0, 0, 0, 0, 0, 0, 0, 0, 0, 0, 0, 0, 0, 0,\n",
       "       0, 0, 0, 0, 0, 0, 0, 0, 0, 0, 0, 0, 0, 0, 0, 0, 0, 0, 0, 0, 0, 0,\n",
       "       0, 0, 0, 0, 0, 0, 0, 0, 0, 0, 0, 0, 0, 0, 0, 0, 0, 0, 0, 0, 0, 0,\n",
       "       0, 0, 0, 0, 0, 0, 0, 0, 0, 0, 0, 0, 0, 0, 0, 0, 0, 0, 0, 0, 0, 0,\n",
       "       0, 0, 0, 0, 0, 0, 0, 0, 0, 0, 0, 0, 0, 0, 0, 0, 0, 0, 0, 0, 0, 0,\n",
       "       0, 0, 0, 0, 0, 0, 0, 0, 0, 0, 0, 0, 0, 0, 0, 0, 0, 0, 0, 0, 0, 0,\n",
       "       0, 0, 0, 0, 0, 0, 0, 0, 0, 0, 0, 0, 0, 0, 0, 0, 0, 0, 0, 0, 0, 0,\n",
       "       0, 0, 0, 0, 0, 0, 0, 0, 0, 0, 0, 0, 0, 0, 0, 0, 0, 0, 0, 0, 0, 0,\n",
       "       0, 0, 0, 0, 0, 0, 0, 0, 0, 0, 0, 0, 0, 0, 0, 0, 0, 0, 0, 0, 0, 0,\n",
       "       0, 0, 0, 0, 0, 0, 0, 0, 0, 0, 0, 0, 0, 0, 0, 0, 0, 0, 0, 0, 0, 0,\n",
       "       0, 0, 0, 0, 0, 0, 0, 0, 0, 0, 0, 0, 0, 0, 0, 0, 0, 0, 0, 0, 0, 0,\n",
       "       0, 0, 0, 0, 0, 0, 0, 0, 0, 0, 0, 0, 0, 0, 0, 0, 0, 0, 0, 0, 0, 0,\n",
       "       0, 0, 0, 0, 0, 0, 0, 0, 0, 0, 0, 0, 0, 0, 0, 0, 0, 0, 0, 0, 0, 0,\n",
       "       0, 0, 0, 0, 0, 0, 0, 0, 0, 0, 0, 0, 0, 0, 0, 0, 0, 0, 0, 0, 0, 0,\n",
       "       0, 0, 0, 0, 0, 0, 0, 0, 0, 0, 0, 0, 0, 0, 0, 0, 0, 0, 0, 0, 0, 0,\n",
       "       0, 0, 0, 0, 0, 0, 0, 0, 0, 0, 0, 0, 0, 0, 0, 0, 0, 0, 0, 0, 0, 0,\n",
       "       0, 0, 0, 0, 0, 0, 0, 0, 0, 0, 0, 0, 0, 0, 0, 0, 0, 0, 0, 0, 0, 0,\n",
       "       0, 0, 0, 0, 0, 0, 0, 0, 0, 0, 0, 0, 0, 0, 0, 0, 0, 0, 0, 0, 0, 0,\n",
       "       0, 0, 0, 0, 0, 0, 0, 0, 0, 0, 0, 0, 0, 0, 0, 0, 0, 0, 0, 0, 0, 0,\n",
       "       0, 0, 0, 0, 0, 0, 0, 0, 0, 0, 0, 0, 0, 0, 0, 0, 0, 0, 0, 0, 0, 0,\n",
       "       0, 0, 0, 0, 0, 0, 0, 0, 0, 0, 0, 0, 0, 0, 0, 0, 0, 0, 0, 0, 0, 0,\n",
       "       0, 0, 0, 0, 0, 0, 0, 0, 0, 0, 0, 0, 0, 0, 0, 0, 0, 0, 0, 0, 0, 0,\n",
       "       0, 0, 0, 0, 0, 0, 0, 0, 0, 0, 0, 0, 0, 0, 0, 0, 0, 0, 0, 0, 0, 0,\n",
       "       0, 0, 0, 0, 0, 0, 0, 0, 0, 0, 0, 0, 0, 0, 0, 0, 0, 0, 0, 0, 0, 0,\n",
       "       0, 0, 0, 0, 0, 0, 0, 0, 0, 0, 0, 0, 0, 0, 0, 0, 0, 0, 0, 0, 0, 0,\n",
       "       0, 0, 0, 0, 0, 0, 0, 0, 0, 0, 0, 0, 0, 0, 0, 0, 0, 0, 0, 0, 0, 0,\n",
       "       0])>"
      ]
     },
     "execution_count": 48,
     "metadata": {},
     "output_type": "execute_result"
    }
   ],
   "source": [
    "sample_label = train_df['terms'].iloc[5]\n",
    "print(sample_label)\n",
    "labels_binarized = lookup([sample_label])\n",
    "labels_binarized"
   ]
  },
  {
   "cell_type": "code",
   "execution_count": 49,
   "id": "98edbb1a",
   "metadata": {},
   "outputs": [],
   "source": [
    "max_seqlen = 150\n",
    "batch_size = 128\n",
    "padding_token = \"<pad>\"\n",
    "auto = tf.data.AUTOTUNE"
   ]
  },
  {
   "cell_type": "code",
   "execution_count": null,
   "id": "087dcfa2",
   "metadata": {},
   "outputs": [],
   "source": [
    "def make_dataset(dataframe : pd.DataFrame, is_Train : bool = True):\n",
    "    labels = tf.ragged.constant(dataframe['terms'].values)"
   ]
  }
 ],
 "metadata": {
  "kernelspec": {
   "display_name": ".venv",
   "language": "python",
   "name": "python3"
  },
  "language_info": {
   "codemirror_mode": {
    "name": "ipython",
    "version": 3
   },
   "file_extension": ".py",
   "mimetype": "text/x-python",
   "name": "python",
   "nbconvert_exporter": "python",
   "pygments_lexer": "ipython3",
   "version": "3.12.4"
  }
 },
 "nbformat": 4,
 "nbformat_minor": 5
}
